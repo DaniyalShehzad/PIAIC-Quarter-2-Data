{
 "cells": [
  {
   "cell_type": "code",
   "execution_count": null,
   "metadata": {},
   "outputs": [],
   "source": [
    "numerical python = python advanced library\n",
    "we have facilities for numerical computing\n",
    "we have options for matrix multiplication and manipulation\n",
    "\n",
    "every data in numpy is stored in ndarray\n",
    "fast operations on entire arrrays is possible with it\n",
    "we can add multiply and divide several arrays\n",
    "\n",
    "we have reading and writing facilities\n",
    "linear algebra operations are possible with matrices in single line of code\n",
    "\n",
    "data in numpy is stored in contigous block of memory(in series)\n",
    "numpy arrays are faster than python sequences(dynamic arrays)\n",
    "\n",
    "complex computation on entire arrays\n",
    "\n",
    "pip == python package installer\n",
    "pip install numpy === to install library"
   ]
  },
  {
   "cell_type": "markdown",
   "metadata": {},
   "source": [
    "# List is slower\n"
   ]
  },
  {
   "cell_type": "code",
   "execution_count": 7,
   "metadata": {},
   "outputs": [
    {
     "name": "stdout",
     "output_type": "stream",
     "text": [
      "Wall time: 1.56 s\n"
     ]
    }
   ],
   "source": [
    "#making a list of 1 million numbers\n",
    "l = range(1000000)\n",
    "\n",
    "# multiplying each number of list by 2    ||   10 times\n",
    "%time for i in range(1, 10): r = [x * 2 for x in l]"
   ]
  },
  {
   "cell_type": "markdown",
   "metadata": {},
   "source": [
    "# Numpy array is 100 times faster"
   ]
  },
  {
   "cell_type": "code",
   "execution_count": 8,
   "metadata": {
    "scrolled": true
   },
   "outputs": [
    {
     "name": "stdout",
     "output_type": "stream",
     "text": [
      "Wall time: 43.1 ms\n"
     ]
    }
   ],
   "source": [
    "import numpy as np\n",
    "\n",
    "# Making an array of 1 million number\n",
    "d = np.arange (1000000)\n",
    "\n",
    "# multiplying array by 2                   ||   10 times\n",
    "%time for i in range(1, 10): r = d * 2"
   ]
  },
  {
   "cell_type": "code",
   "execution_count": null,
   "metadata": {},
   "outputs": [],
   "source": [
    "Attributer of Numpy\n",
    "everything is stored in ndarray internally in numpy"
   ]
  },
  {
   "cell_type": "markdown",
   "metadata": {},
   "source": [
    "# Multidimensional Array Object"
   ]
  },
  {
   "cell_type": "code",
   "execution_count": 27,
   "metadata": {},
   "outputs": [
    {
     "data": {
      "text/plain": [
       "array([[0., 0., 0., 0.],\n",
       "       [0., 0., 0., 0.],\n",
       "       [0., 0., 0., 0.],\n",
       "       [0., 0., 0., 0.]])"
      ]
     },
     "execution_count": 27,
     "metadata": {},
     "output_type": "execute_result"
    }
   ],
   "source": [
    "#  Every thing in numpy is internally stored in ndarray\n",
    "#              ndarray can be of one or any other required dimensions\n",
    "import numpy as np\n",
    "\n",
    "# tuple tells the size of the array\n",
    "x = np.zeros((4, 4))           #numpy array with all zero element, size of the array specified by tuple\n",
    "\n",
    "x"
   ]
  },
  {
   "cell_type": "code",
   "execution_count": 28,
   "metadata": {},
   "outputs": [
    {
     "data": {
      "text/plain": [
       "array([[1., 1., 1., 1., 1.],\n",
       "       [1., 1., 1., 1., 1.],\n",
       "       [1., 1., 1., 1., 1.],\n",
       "       [1., 1., 1., 1., 1.],\n",
       "       [1., 1., 1., 1., 1.]])"
      ]
     },
     "execution_count": 28,
     "metadata": {},
     "output_type": "execute_result"
    }
   ],
   "source": [
    "np.ones((5,5))             #numpy array with all one elements\n"
   ]
  },
  {
   "cell_type": "code",
   "execution_count": 31,
   "metadata": {},
   "outputs": [
    {
     "data": {
      "text/plain": [
       "array([[0.00000000e+000, 0.00000000e+000, 0.00000000e+000],\n",
       "       [0.00000000e+000, 0.00000000e+000, 5.75092412e-321],\n",
       "       [8.45603440e-307, 1.24611470e-306, 6.95233839e-310]])"
      ]
     },
     "execution_count": 31,
     "metadata": {},
     "output_type": "execute_result"
    }
   ],
   "source": [
    "np.empty ((3, 3))          # numpy array with garbage data"
   ]
  },
  {
   "cell_type": "markdown",
   "metadata": {},
   "source": [
    "# Passing a list elements into a numpy array"
   ]
  },
  {
   "cell_type": "code",
   "execution_count": 33,
   "metadata": {},
   "outputs": [
    {
     "data": {
      "text/plain": [
       "array([1, 4, 5, 6])"
      ]
     },
     "execution_count": 33,
     "metadata": {},
     "output_type": "execute_result"
    }
   ],
   "source": [
    "l = [1, 4, 5, 6]\n",
    "\n",
    "np.array(l)"
   ]
  },
  {
   "cell_type": "code",
   "execution_count": 37,
   "metadata": {},
   "outputs": [
    {
     "name": "stdout",
     "output_type": "stream",
     "text": [
      "[ 1 11 21 31 41 51 61 71 81 91]\n"
     ]
    },
    {
     "data": {
      "text/plain": [
       "(10,)"
      ]
     },
     "execution_count": 37,
     "metadata": {},
     "output_type": "execute_result"
    }
   ],
   "source": [
    "x = np.arange(1, 100, 10)          # an array with a given range of numbers with step size\n",
    "#         start  end   step size\n",
    "\n",
    "print (x)\n",
    "\n",
    "# to check the shape of the array\n",
    "x.shape"
   ]
  },
  {
   "cell_type": "code",
   "execution_count": 51,
   "metadata": {},
   "outputs": [
    {
     "name": "stdout",
     "output_type": "stream",
     "text": [
      "[[0. 0. 0. 0. 0. 0. 0. 0. 0. 0.]\n",
      " [0. 0. 0. 0. 0. 0. 0. 0. 0. 0.]\n",
      " [0. 0. 0. 0. 0. 0. 0. 0. 0. 0.]\n",
      " [0. 0. 0. 0. 0. 0. 0. 0. 0. 0.]\n",
      " [0. 0. 0. 0. 0. 0. 0. 0. 0. 0.]\n",
      " [0. 0. 0. 0. 0. 0. 0. 0. 0. 0.]\n",
      " [0. 0. 0. 0. 0. 0. 0. 0. 0. 0.]\n",
      " [0. 0. 0. 0. 0. 0. 0. 0. 0. 0.]\n",
      " [0. 0. 0. 0. 0. 0. 0. 0. 0. 0.]\n",
      " [0. 0. 0. 0. 0. 0. 0. 0. 0. 0.]]\n"
     ]
    },
    {
     "data": {
      "text/plain": [
       "(10, 10)"
      ]
     },
     "execution_count": 51,
     "metadata": {},
     "output_type": "execute_result"
    }
   ],
   "source": [
    "# showing shape of array\n",
    "y = np.zeros((10, 10))\n",
    "\n",
    "print(y)\n",
    "\n",
    "# array of 10 * 10 = 100 elements\n",
    "y.shape"
   ]
  },
  {
   "cell_type": "code",
   "execution_count": 46,
   "metadata": {},
   "outputs": [
    {
     "data": {
      "text/plain": [
       "array([[[[0., 0., 0., 0., 0.],\n",
       "         [0., 0., 0., 0., 0.],\n",
       "         [0., 0., 0., 0., 0.],\n",
       "         [0., 0., 0., 0., 0.],\n",
       "         [0., 0., 0., 0., 0.]],\n",
       "\n",
       "        [[0., 0., 0., 0., 0.],\n",
       "         [0., 0., 0., 0., 0.],\n",
       "         [0., 0., 0., 0., 0.],\n",
       "         [0., 0., 0., 0., 0.],\n",
       "         [0., 0., 0., 0., 0.]]],\n",
       "\n",
       "\n",
       "       [[[0., 0., 0., 0., 0.],\n",
       "         [0., 0., 0., 0., 0.],\n",
       "         [0., 0., 0., 0., 0.],\n",
       "         [0., 0., 0., 0., 0.],\n",
       "         [0., 0., 0., 0., 0.]],\n",
       "\n",
       "        [[0., 0., 0., 0., 0.],\n",
       "         [0., 0., 0., 0., 0.],\n",
       "         [0., 0., 0., 0., 0.],\n",
       "         [0., 0., 0., 0., 0.],\n",
       "         [0., 0., 0., 0., 0.]]]])"
      ]
     },
     "execution_count": 46,
     "metadata": {},
     "output_type": "execute_result"
    }
   ],
   "source": [
    "# reshape an array\n",
    "y = y.reshape((2, 2, 5, 5))\n",
    "\n",
    "y\n",
    "\n",
    "# number of elements should remain same"
   ]
  },
  {
   "cell_type": "code",
   "execution_count": 47,
   "metadata": {},
   "outputs": [
    {
     "data": {
      "text/plain": [
       "dtype('float64')"
      ]
     },
     "execution_count": 47,
     "metadata": {},
     "output_type": "execute_result"
    }
   ],
   "source": [
    "# see data type of an array\n",
    "y.dtype"
   ]
  },
  {
   "cell_type": "code",
   "execution_count": 49,
   "metadata": {},
   "outputs": [
    {
     "data": {
      "text/plain": [
       "4"
      ]
     },
     "execution_count": 49,
     "metadata": {},
     "output_type": "execute_result"
    }
   ],
   "source": [
    "# to see dimensions of array\n",
    "y.ndim\n",
    "\n",
    "# data type can be of any type"
   ]
  },
  {
   "cell_type": "markdown",
   "metadata": {},
   "source": [
    "# Arithmatic with nd-array"
   ]
  },
  {
   "cell_type": "markdown",
   "metadata": {},
   "source": [
    "#### Add two arrays === vectorization"
   ]
  },
  {
   "cell_type": "code",
   "execution_count": 9,
   "metadata": {},
   "outputs": [
    {
     "data": {
      "text/plain": [
       "array([-0.18972441,  2.92561234,  0.10499755, -1.78169643, -0.54471481,\n",
       "        0.72332671, -0.43434509, -0.84338713, -0.74545333, -1.06540045])"
      ]
     },
     "execution_count": 9,
     "metadata": {},
     "output_type": "execute_result"
    }
   ],
   "source": [
    "import numpy as np\n",
    "\n",
    "# making a random array of 10 elements\n",
    "a = np.random.randn((10))\n",
    "a"
   ]
  },
  {
   "cell_type": "code",
   "execution_count": 10,
   "metadata": {},
   "outputs": [
    {
     "data": {
      "text/plain": [
       "array([ 0.44133837, -0.14286365,  0.59000987,  0.90897371,  1.15101728,\n",
       "        1.02429854,  1.35305699, -0.46865521, -0.652758  ,  1.05991694])"
      ]
     },
     "execution_count": 10,
     "metadata": {},
     "output_type": "execute_result"
    }
   ],
   "source": [
    "b = np.random.randn((10))\n",
    "b"
   ]
  },
  {
   "cell_type": "code",
   "execution_count": 11,
   "metadata": {},
   "outputs": [
    {
     "data": {
      "text/plain": [
       "array([ 0.25161396,  2.78274869,  0.69500743, -0.87272272,  0.60630247,\n",
       "        1.74762525,  0.9187119 , -1.31204233, -1.39821133, -0.00548351])"
      ]
     },
     "execution_count": 11,
     "metadata": {},
     "output_type": "execute_result"
    }
   ],
   "source": [
    "#adding them (not possible in list)\n",
    "a + b"
   ]
  },
  {
   "cell_type": "code",
   "execution_count": 12,
   "metadata": {},
   "outputs": [
    {
     "data": {
      "text/plain": [
       "array([-0.63106278,  3.06847599, -0.48501232, -2.69067014, -1.6957321 ,\n",
       "       -0.30097183, -1.78740208, -0.37473192, -0.09269533, -2.1253174 ])"
      ]
     },
     "execution_count": 12,
     "metadata": {},
     "output_type": "execute_result"
    }
   ],
   "source": [
    "#subtracting them\n",
    "a - b"
   ]
  },
  {
   "cell_type": "code",
   "execution_count": 13,
   "metadata": {},
   "outputs": [
    {
     "data": {
      "text/plain": [
       "array([-0.37944882,  5.85122468,  0.20999511, -3.56339286, -1.08942963,\n",
       "        1.44665341, -0.86869019, -1.68677425, -1.49090666, -2.13080091])"
      ]
     },
     "execution_count": 13,
     "metadata": {},
     "output_type": "execute_result"
    }
   ],
   "source": [
    "# multiplying array by 2\n",
    "a * 2"
   ]
  },
  {
   "cell_type": "code",
   "execution_count": 15,
   "metadata": {},
   "outputs": [
    {
     "data": {
      "text/plain": [
       "array([-5.27080304,  0.34180879,  9.52403144, -0.56126284, -1.83582303,\n",
       "        1.38250114, -2.30231679, -1.18569512, -1.3414656 , -0.9386142 ])"
      ]
     },
     "execution_count": 15,
     "metadata": {},
     "output_type": "execute_result"
    }
   ],
   "source": [
    "# inversing it\n",
    "1 / a"
   ]
  },
  {
   "cell_type": "code",
   "execution_count": 16,
   "metadata": {},
   "outputs": [
    {
     "data": {
      "text/plain": [
       "array([False,  True,  True, False, False,  True, False, False, False,\n",
       "       False])"
      ]
     },
     "execution_count": 16,
     "metadata": {},
     "output_type": "execute_result"
    }
   ],
   "source": [
    "# boolean for condition\n",
    "a > 0"
   ]
  },
  {
   "cell_type": "code",
   "execution_count": 17,
   "metadata": {},
   "outputs": [
    {
     "data": {
      "text/plain": [
       "array([2.92561234, 0.10499755, 0.72332671])"
      ]
     },
     "execution_count": 17,
     "metadata": {},
     "output_type": "execute_result"
    }
   ],
   "source": [
    "# passing boolean as index to show elements for condition\n",
    "a [a > 0]"
   ]
  },
  {
   "cell_type": "markdown",
   "metadata": {},
   "source": [
    "# Indexing and Slicing\n",
    "similar to python list"
   ]
  },
  {
   "cell_type": "code",
   "execution_count": 18,
   "metadata": {},
   "outputs": [],
   "source": [
    "import numpy as np\n",
    "\n",
    "#creating an array from list\n",
    "q = np.array([1,7,9,8,5])\n",
    "\n",
    "# index       0,1,2,3,4"
   ]
  },
  {
   "cell_type": "code",
   "execution_count": 22,
   "metadata": {},
   "outputs": [
    {
     "data": {
      "text/plain": [
       "7"
      ]
     },
     "execution_count": 22,
     "metadata": {},
     "output_type": "execute_result"
    }
   ],
   "source": [
    "# getting element from index number\n",
    "\n",
    "q[1]"
   ]
  },
  {
   "cell_type": "code",
   "execution_count": 25,
   "metadata": {},
   "outputs": [
    {
     "data": {
      "text/plain": [
       "array([7, 9, 8, 5])"
      ]
     },
     "execution_count": 25,
     "metadata": {},
     "output_type": "execute_result"
    }
   ],
   "source": [
    "#boolean indexing\n",
    "q[q > 4]"
   ]
  },
  {
   "cell_type": "code",
   "execution_count": 27,
   "metadata": {},
   "outputs": [
    {
     "data": {
      "text/plain": [
       "array([9, 7])"
      ]
     },
     "execution_count": 27,
     "metadata": {},
     "output_type": "execute_result"
    }
   ],
   "source": [
    "#fancy indexing\n",
    "q [[2, 1]]\n",
    "\n",
    "# takes elemets from 1 and 2 index"
   ]
  },
  {
   "cell_type": "code",
   "execution_count": 29,
   "metadata": {},
   "outputs": [
    {
     "data": {
      "text/plain": [
       "array([[ 0.12587613,  0.31835299,  0.22250688,  0.7231438 ,  0.76976595,\n",
       "         1.51194323, -1.60241591, -1.18695469,  0.93017361,  0.14641115],\n",
       "       [-0.23792751,  0.58862304,  1.54994349,  0.18384471,  0.84668657,\n",
       "         0.00663759,  0.27622655,  0.55827396,  1.09141822, -0.43692309],\n",
       "       [-0.01942059,  0.60195429,  0.83758826, -1.14572964,  0.93678933,\n",
       "         2.33444765,  0.25552037,  0.4172091 ,  1.7030225 ,  0.56878071],\n",
       "       [-0.19329392, -0.67717913, -1.19226244,  1.18997176, -0.62601431,\n",
       "         0.24527936, -0.1409028 ,  0.66836905,  0.23990476,  1.51447828],\n",
       "       [-0.48774144,  0.82059004,  0.46273666, -0.67111306,  0.31325162,\n",
       "         0.53610503, -1.10866234,  2.59628707, -0.46258946,  2.20850029],\n",
       "       [ 0.63591283,  0.14778416,  1.69974551,  0.12769736,  0.08854732,\n",
       "         0.92623837,  0.4170686 , -1.15008461,  1.93777143, -0.75339934],\n",
       "       [ 1.43045736, -1.09447543,  0.27286145, -0.11313869,  0.83372583,\n",
       "        -0.28945605,  2.25906906,  0.77452958, -0.68751787,  0.20734085],\n",
       "       [-0.0180915 , -0.49299202,  1.85934212, -0.73860656, -1.11062399,\n",
       "        -2.70990613, -0.73399204,  0.02939444, -0.18672102, -0.54263688],\n",
       "       [ 0.32815426,  0.62351883, -0.2110366 ,  0.07459151, -1.32919111,\n",
       "        -1.20901353, -0.10215577, -0.75647454,  0.27899972, -0.14735405],\n",
       "       [-0.39305242,  0.37467738, -1.04055133,  1.19152586,  1.22628769,\n",
       "         0.61658785, -1.11465497,  0.1747176 ,  1.59298362,  0.65413442]])"
      ]
     },
     "execution_count": 29,
     "metadata": {},
     "output_type": "execute_result"
    }
   ],
   "source": [
    "# random array of required dimension\n",
    "z = np.random.randn(10, 10)\n",
    "z"
   ]
  },
  {
   "cell_type": "code",
   "execution_count": 30,
   "metadata": {},
   "outputs": [
    {
     "data": {
      "text/plain": [
       "array([ 0.12587613,  0.31835299,  0.22250688,  0.7231438 ,  0.76976595,\n",
       "        1.51194323, -1.60241591, -1.18695469,  0.93017361,  0.14641115])"
      ]
     },
     "execution_count": 30,
     "metadata": {},
     "output_type": "execute_result"
    }
   ],
   "source": [
    "# picking 1st row\n",
    "z [0]"
   ]
  },
  {
   "cell_type": "code",
   "execution_count": 32,
   "metadata": {},
   "outputs": [
    {
     "data": {
      "text/plain": [
       "0.7697659506318605"
      ]
     },
     "execution_count": 32,
     "metadata": {},
     "output_type": "execute_result"
    }
   ],
   "source": [
    "# taking 5th column of 1st row\n",
    "z [0][4]"
   ]
  },
  {
   "cell_type": "code",
   "execution_count": 41,
   "metadata": {},
   "outputs": [
    {
     "data": {
      "text/plain": [
       "array([[-0.23792751,  0.58862304,  1.54994349,  0.18384471,  0.84668657,\n",
       "         0.00663759,  0.27622655,  0.55827396,  1.09141822, -0.43692309],\n",
       "       [-0.19329392, -0.67717913, -1.19226244,  1.18997176, -0.62601431,\n",
       "         0.24527936, -0.1409028 ,  0.66836905,  0.23990476,  1.51447828],\n",
       "       [ 0.63591283,  0.14778416,  1.69974551,  0.12769736,  0.08854732,\n",
       "         0.92623837,  0.4170686 , -1.15008461,  1.93777143, -0.75339934],\n",
       "       [-0.0180915 , -0.49299202,  1.85934212, -0.73860656, -1.11062399,\n",
       "        -2.70990613, -0.73399204,  0.02939444, -0.18672102, -0.54263688],\n",
       "       [-0.39305242,  0.37467738, -1.04055133,  1.19152586,  1.22628769,\n",
       "         0.61658785, -1.11465497,  0.1747176 ,  1.59298362,  0.65413442]])"
      ]
     },
     "execution_count": 41,
     "metadata": {},
     "output_type": "execute_result"
    }
   ],
   "source": [
    "# for odd rows in the array\n",
    "# from 1st to 10th row, and every 2nd row \n",
    "z [1:10:2,::]\n",
    "\n",
    "# for all columns"
   ]
  },
  {
   "cell_type": "code",
   "execution_count": 43,
   "metadata": {},
   "outputs": [
    {
     "data": {
      "text/plain": [
       "array([[ 0.12587613,  0.31835299,  0.22250688,  0.7231438 ],\n",
       "       [-0.23792751,  0.58862304,  1.54994349,  0.18384471],\n",
       "       [-0.01942059,  0.60195429,  0.83758826, -1.14572964],\n",
       "       [-0.19329392, -0.67717913, -1.19226244,  1.18997176],\n",
       "       [-0.48774144,  0.82059004,  0.46273666, -0.67111306],\n",
       "       [ 0.63591283,  0.14778416,  1.69974551,  0.12769736],\n",
       "       [ 1.43045736, -1.09447543,  0.27286145, -0.11313869],\n",
       "       [-0.0180915 , -0.49299202,  1.85934212, -0.73860656],\n",
       "       [ 0.32815426,  0.62351883, -0.2110366 ,  0.07459151],\n",
       "       [-0.39305242,  0.37467738, -1.04055133,  1.19152586]])"
      ]
     },
     "execution_count": 43,
     "metadata": {},
     "output_type": "execute_result"
    }
   ],
   "source": [
    "# for slicing the first 4 columns, and all rows\n",
    "z[::, 0:4]"
   ]
  },
  {
   "cell_type": "code",
   "execution_count": 45,
   "metadata": {},
   "outputs": [
    {
     "data": {
      "text/plain": [
       "array([[1., 1., 1., 1., 1.],\n",
       "       [1., 1., 1., 1., 1.],\n",
       "       [1., 1., 1., 1., 1.],\n",
       "       [1., 1., 1., 1., 1.],\n",
       "       [1., 1., 1., 1., 1.]])"
      ]
     },
     "execution_count": 45,
     "metadata": {},
     "output_type": "execute_result"
    }
   ],
   "source": [
    "# for square shape with 1s on border\n",
    "c = np.ones((5,5))\n",
    "c"
   ]
  },
  {
   "cell_type": "code",
   "execution_count": 47,
   "metadata": {},
   "outputs": [
    {
     "data": {
      "text/plain": [
       "array([[1., 1., 1., 1., 1.],\n",
       "       [1., 0., 0., 0., 1.],\n",
       "       [1., 0., 0., 0., 1.],\n",
       "       [1., 0., 0., 0., 1.],\n",
       "       [1., 1., 1., 1., 1.]])"
      ]
     },
     "execution_count": 47,
     "metadata": {},
     "output_type": "execute_result"
    }
   ],
   "source": [
    "# to make sides 0\n",
    "c[1:-1,1:-1] = 0\n",
    "c"
   ]
  },
  {
   "cell_type": "markdown",
   "metadata": {},
   "source": [
    "# Fast element wise array operation"
   ]
  },
  {
   "cell_type": "code",
   "execution_count": 50,
   "metadata": {},
   "outputs": [
    {
     "data": {
      "text/plain": [
       "array([10,  9,  8,  6, 11])"
      ]
     },
     "execution_count": 50,
     "metadata": {},
     "output_type": "execute_result"
    }
   ],
   "source": [
    "import numpy as np\n",
    "\n",
    "x = np.array([10,9,8,6,11])\n",
    "x"
   ]
  },
  {
   "cell_type": "code",
   "execution_count": 51,
   "metadata": {},
   "outputs": [
    {
     "data": {
      "text/plain": [
       "array([3.16227766, 3.        , 2.82842712, 2.44948974, 3.31662479])"
      ]
     },
     "execution_count": 51,
     "metadata": {},
     "output_type": "execute_result"
    }
   ],
   "source": [
    "#For square roor of whole array\n",
    "np.sqrt(x)"
   ]
  },
  {
   "cell_type": "code",
   "execution_count": 52,
   "metadata": {},
   "outputs": [
    {
     "data": {
      "text/plain": [
       "array([100,  81,  64,  36, 121], dtype=int32)"
      ]
     },
     "execution_count": 52,
     "metadata": {},
     "output_type": "execute_result"
    }
   ],
   "source": [
    "#for power on array elements\n",
    "np.power(x,2)"
   ]
  },
  {
   "cell_type": "code",
   "execution_count": 53,
   "metadata": {},
   "outputs": [],
   "source": [
    "y = [7,1,2,3,-1]"
   ]
  },
  {
   "cell_type": "code",
   "execution_count": 54,
   "metadata": {},
   "outputs": [
    {
     "data": {
      "text/plain": [
       "array([10,  9,  8,  6, 11])"
      ]
     },
     "execution_count": 54,
     "metadata": {},
     "output_type": "execute_result"
    }
   ],
   "source": [
    "# to get maximum values between arrays, element wise\n",
    "np.maximum(x,y)"
   ]
  },
  {
   "cell_type": "markdown",
   "metadata": {},
   "source": [
    "# Turnary Operators\n",
    "\n",
    "#### Condition, Exp1, Exp 2\n",
    "         True , Fasle"
   ]
  },
  {
   "cell_type": "markdown",
   "metadata": {},
   "source": [
    "### turnary operator where is applied to the whole array\n",
    "\n",
    "#### It is used for data filtering and data processing"
   ]
  },
  {
   "cell_type": "code",
   "execution_count": 3,
   "metadata": {},
   "outputs": [
    {
     "data": {
      "text/plain": [
       "array([ 25000,  25000, 100000,  50000])"
      ]
     },
     "execution_count": 3,
     "metadata": {},
     "output_type": "execute_result"
    }
   ],
   "source": [
    "import numpy as np\n",
    "salary = np.array([0, -1, 100000, 50000])\n",
    "\n",
    "#          if       do this    otherwise, let it be\n",
    "np.where(salary<=0, 25000, salary)"
   ]
  },
  {
   "cell_type": "code",
   "execution_count": 4,
   "metadata": {},
   "outputs": [
    {
     "data": {
      "text/plain": [
       "array(['Nok OK', 'Nok OK', 'Ok', 'Ok'], dtype='<U6')"
      ]
     },
     "execution_count": 4,
     "metadata": {},
     "output_type": "execute_result"
    }
   ],
   "source": [
    "np.where(salary<=0, \"Nok OK\", \"Ok\")"
   ]
  },
  {
   "cell_type": "markdown",
   "metadata": {},
   "source": [
    "# Mathematical & Statistical Methods"
   ]
  },
  {
   "cell_type": "markdown",
   "metadata": {},
   "source": [
    "##### Numpy has methematical functions for different operation\n",
    "Some Methods work on boolean arrays"
   ]
  },
  {
   "cell_type": "code",
   "execution_count": 5,
   "metadata": {},
   "outputs": [],
   "source": [
    "import numpy as np\n",
    "\n",
    "x = np.array([10,9,7,10,7])"
   ]
  },
  {
   "cell_type": "code",
   "execution_count": 6,
   "metadata": {},
   "outputs": [
    {
     "data": {
      "text/plain": [
       "43"
      ]
     },
     "execution_count": 6,
     "metadata": {},
     "output_type": "execute_result"
    }
   ],
   "source": [
    "# for sum of elements\n",
    "x.sum()"
   ]
  },
  {
   "cell_type": "code",
   "execution_count": 8,
   "metadata": {},
   "outputs": [
    {
     "data": {
      "text/plain": [
       "8.6"
      ]
     },
     "execution_count": 8,
     "metadata": {},
     "output_type": "execute_result"
    }
   ],
   "source": [
    "#for mean of elements\n",
    "x.mean()"
   ]
  },
  {
   "cell_type": "code",
   "execution_count": 9,
   "metadata": {},
   "outputs": [
    {
     "data": {
      "text/plain": [
       "array([10, 19, 26, 36, 43], dtype=int32)"
      ]
     },
     "execution_count": 9,
     "metadata": {},
     "output_type": "execute_result"
    }
   ],
   "source": [
    "#for cummalative sum of elements\n",
    "x.cumsum()"
   ]
  },
  {
   "cell_type": "code",
   "execution_count": 10,
   "metadata": {},
   "outputs": [
    {
     "data": {
      "text/plain": [
       "array([   10,    90,   630,  6300, 44100], dtype=int32)"
      ]
     },
     "execution_count": 10,
     "metadata": {},
     "output_type": "execute_result"
    }
   ],
   "source": [
    "#for cummalative product of elements\n",
    "x.cumprod()"
   ]
  },
  {
   "cell_type": "code",
   "execution_count": 16,
   "metadata": {},
   "outputs": [
    {
     "data": {
      "text/plain": [
       "array([ True,  True, False,  True, False])"
      ]
     },
     "execution_count": 16,
     "metadata": {},
     "output_type": "execute_result"
    }
   ],
   "source": [
    "#to return boolean array\n",
    "y = x > 7\n",
    "y"
   ]
  },
  {
   "cell_type": "code",
   "execution_count": 18,
   "metadata": {},
   "outputs": [
    {
     "data": {
      "text/plain": [
       "3"
      ]
     },
     "execution_count": 18,
     "metadata": {},
     "output_type": "execute_result"
    }
   ],
   "source": [
    "#to sum true of these booleans\n",
    "y.sum()"
   ]
  },
  {
   "cell_type": "code",
   "execution_count": 20,
   "metadata": {},
   "outputs": [
    {
     "data": {
      "text/plain": [
       "True"
      ]
     },
     "execution_count": 20,
     "metadata": {},
     "output_type": "execute_result"
    }
   ],
   "source": [
    "#to check if any element is true\n",
    "y.any()"
   ]
  },
  {
   "cell_type": "code",
   "execution_count": 21,
   "metadata": {},
   "outputs": [
    {
     "data": {
      "text/plain": [
       "False"
      ]
     },
     "execution_count": 21,
     "metadata": {},
     "output_type": "execute_result"
    }
   ],
   "source": [
    "#to check if all are true\n",
    "y.all()"
   ]
  },
  {
   "cell_type": "code",
   "execution_count": 22,
   "metadata": {},
   "outputs": [
    {
     "data": {
      "text/plain": [
       "array([ 7,  7,  9, 10, 10])"
      ]
     },
     "execution_count": 22,
     "metadata": {},
     "output_type": "execute_result"
    }
   ],
   "source": [
    "#to sort the array\n",
    "x.sort()\n",
    "x"
   ]
  },
  {
   "cell_type": "code",
   "execution_count": 23,
   "metadata": {},
   "outputs": [
    {
     "data": {
      "text/plain": [
       "array([ 7,  9, 10])"
      ]
     },
     "execution_count": 23,
     "metadata": {},
     "output_type": "execute_result"
    }
   ],
   "source": [
    "#to check unique elements in array\n",
    "np.unique(x)"
   ]
  },
  {
   "cell_type": "markdown",
   "metadata": {},
   "source": [
    "# File Reading And Writing\n",
    "We can save and load multiple arrays to files|"
   ]
  },
  {
   "cell_type": "markdown",
   "metadata": {},
   "source": [
    "np.save(filename.npy, array)  [if EXT is not given if gives if automatically]\n",
    "\n",
    "np.load(filename.npy) [returns a dictionary if loading a .npz d file to retrieve values through keys]\n",
    "\n",
    "np.savez(filename.npz, array1, array2)"
   ]
  },
  {
   "cell_type": "code",
   "execution_count": 44,
   "metadata": {},
   "outputs": [],
   "source": [
    "import numpy as np\n",
    "\n",
    "x = [1,4,5,7]\n",
    "y = [8,7,9]"
   ]
  },
  {
   "cell_type": "code",
   "execution_count": 45,
   "metadata": {},
   "outputs": [],
   "source": [
    "np.save('testx', x)"
   ]
  },
  {
   "cell_type": "code",
   "execution_count": 46,
   "metadata": {},
   "outputs": [
    {
     "data": {
      "text/plain": [
       "array([1, 4, 5, 7])"
      ]
     },
     "execution_count": 46,
     "metadata": {},
     "output_type": "execute_result"
    }
   ],
   "source": [
    "loadx = np.load('testx.npy') \n",
    "loadx"
   ]
  },
  {
   "cell_type": "code",
   "execution_count": 56,
   "metadata": {},
   "outputs": [],
   "source": [
    "#to store multiple elements\n",
    "np.savez('testxy',x,y)"
   ]
  },
  {
   "cell_type": "code",
   "execution_count": 57,
   "metadata": {},
   "outputs": [
    {
     "data": {
      "text/plain": [
       "<numpy.lib.npyio.NpzFile at 0x24f3ec4b780>"
      ]
     },
     "execution_count": 57,
     "metadata": {},
     "output_type": "execute_result"
    }
   ],
   "source": [
    "loadxy = np.load('testxy.npz')\n",
    "loadxy"
   ]
  },
  {
   "cell_type": "code",
   "execution_count": 59,
   "metadata": {},
   "outputs": [
    {
     "ename": "KeyError",
     "evalue": "'x is not a file in the archive'",
     "output_type": "error",
     "traceback": [
      "\u001b[1;31m---------------------------------------------------------------------------\u001b[0m",
      "\u001b[1;31mKeyError\u001b[0m                                  Traceback (most recent call last)",
      "\u001b[1;32m<ipython-input-59-43e8d42ca7cc>\u001b[0m in \u001b[0;36m<module>\u001b[1;34m\u001b[0m\n\u001b[1;32m----> 1\u001b[1;33m \u001b[0mloadxy\u001b[0m\u001b[1;33m[\u001b[0m\u001b[1;34m'x'\u001b[0m\u001b[1;33m]\u001b[0m\u001b[1;33m\u001b[0m\u001b[1;33m\u001b[0m\u001b[0m\n\u001b[0m",
      "\u001b[1;32mC:\\ProgramData\\Anaconda3\\lib\\site-packages\\numpy\\lib\\npyio.py\u001b[0m in \u001b[0;36m__getitem__\u001b[1;34m(self, key)\u001b[0m\n\u001b[0;32m    260\u001b[0m                 \u001b[1;32mreturn\u001b[0m \u001b[0mself\u001b[0m\u001b[1;33m.\u001b[0m\u001b[0mzip\u001b[0m\u001b[1;33m.\u001b[0m\u001b[0mread\u001b[0m\u001b[1;33m(\u001b[0m\u001b[0mkey\u001b[0m\u001b[1;33m)\u001b[0m\u001b[1;33m\u001b[0m\u001b[1;33m\u001b[0m\u001b[0m\n\u001b[0;32m    261\u001b[0m         \u001b[1;32melse\u001b[0m\u001b[1;33m:\u001b[0m\u001b[1;33m\u001b[0m\u001b[1;33m\u001b[0m\u001b[0m\n\u001b[1;32m--> 262\u001b[1;33m             \u001b[1;32mraise\u001b[0m \u001b[0mKeyError\u001b[0m\u001b[1;33m(\u001b[0m\u001b[1;34m\"%s is not a file in the archive\"\u001b[0m \u001b[1;33m%\u001b[0m \u001b[0mkey\u001b[0m\u001b[1;33m)\u001b[0m\u001b[1;33m\u001b[0m\u001b[1;33m\u001b[0m\u001b[0m\n\u001b[0m\u001b[0;32m    263\u001b[0m \u001b[1;33m\u001b[0m\u001b[0m\n\u001b[0;32m    264\u001b[0m \u001b[1;33m\u001b[0m\u001b[0m\n",
      "\u001b[1;31mKeyError\u001b[0m: 'x is not a file in the archive'"
     ]
    }
   ],
   "source": [
    "loadxy['x']"
   ]
  },
  {
   "cell_type": "markdown",
   "metadata": {},
   "source": [
    "# Linear Algebra Functions\n",
    "for operations with matrices"
   ]
  },
  {
   "cell_type": "code",
   "execution_count": 60,
   "metadata": {},
   "outputs": [],
   "source": [
    "import numpy as np\n",
    "\n",
    "x = np.random.randn(3,2)\n",
    "\n",
    "y = np.random.randn(2,3)"
   ]
  },
  {
   "cell_type": "code",
   "execution_count": 61,
   "metadata": {},
   "outputs": [
    {
     "data": {
      "text/plain": [
       "array([[ 0.01628439, -0.925162  ,  0.90660008],\n",
       "       [ 1.98117599,  0.21655758, -0.33104447],\n",
       "       [ 0.52760438,  0.10885229, -0.1383682 ]])"
      ]
     },
     "execution_count": 61,
     "metadata": {},
     "output_type": "execute_result"
    }
   ],
   "source": [
    "# for dot product\n",
    "\n",
    "x.dot(y)"
   ]
  },
  {
   "cell_type": "code",
   "execution_count": 62,
   "metadata": {},
   "outputs": [
    {
     "data": {
      "text/plain": [
       "array([[-1.6112618 , -0.1131786 ,  0.05877405],\n",
       "       [-1.28832371,  1.95286074,  0.5920849 ]])"
      ]
     },
     "execution_count": 62,
     "metadata": {},
     "output_type": "execute_result"
    }
   ],
   "source": [
    "# for transpose of matrix\n",
    "x.transpose()"
   ]
  },
  {
   "cell_type": "code",
   "execution_count": 64,
   "metadata": {},
   "outputs": [
    {
     "data": {
      "text/plain": [
       "0.34159893092720583"
      ]
     },
     "execution_count": 64,
     "metadata": {},
     "output_type": "execute_result"
    }
   ],
   "source": [
    "#to get the trace of a matrix\n",
    "x.trace()"
   ]
  },
  {
   "cell_type": "markdown",
   "metadata": {},
   "source": [
    "# Pseudo Random Number Generator"
   ]
  },
  {
   "cell_type": "markdown",
   "metadata": {},
   "source": [
    "when working with data science libraries or machine learning \n",
    "when we load our dataset, we need to randomize our data to remove biasness from the data"
   ]
  },
  {
   "cell_type": "markdown",
   "metadata": {},
   "source": [
    "computer generates a random number through algorithims or different distributions\n",
    "We need initialize the generator (seed value) to generate the random number"
   ]
  },
  {
   "cell_type": "code",
   "execution_count": 67,
   "metadata": {},
   "outputs": [
    {
     "data": {
      "text/plain": [
       "array([[ 1.69052570e+00, -4.65937371e-01,  3.28201637e-02],\n",
       "       [ 4.07516283e-01, -7.88923029e-01,  2.06557291e-03],\n",
       "       [-8.90385858e-04, -1.75472431e+00,  1.01765801e+00]])"
      ]
     },
     "execution_count": 67,
     "metadata": {},
     "output_type": "execute_result"
    }
   ],
   "source": [
    "import numpy as np\n",
    "\n",
    "# giving a seed value\n",
    "np.random.seed(7)\n",
    "\n",
    "# now generating random number by normal distribution\n",
    "np.random.normal(size = (3,3))"
   ]
  },
  {
   "cell_type": "code",
   "execution_count": 68,
   "metadata": {},
   "outputs": [
    {
     "data": {
      "text/plain": [
       "array([[0.38094113, 0.06593635, 0.2881456 ],\n",
       "       [0.90959353, 0.21338535, 0.45212396],\n",
       "       [0.93120602, 0.02489923, 0.60054892]])"
      ]
     },
     "execution_count": 68,
     "metadata": {},
     "output_type": "execute_result"
    }
   ],
   "source": [
    "# now generating random number by uniform distribution\n",
    "\n",
    "np.random.uniform(size = (3,3))"
   ]
  },
  {
   "cell_type": "markdown",
   "metadata": {},
   "source": [
    "# Numpy Advanced Array Manipulation"
   ]
  },
  {
   "cell_type": "markdown",
   "metadata": {},
   "source": [
    "## Reshape Method \n",
    "number of elements must remain same"
   ]
  },
  {
   "cell_type": "markdown",
   "metadata": {},
   "source": [
    "row major order and column major order are internally data storage orders of arrays|"
   ]
  },
  {
   "cell_type": "code",
   "execution_count": null,
   "metadata": {},
   "outputs": [],
   "source": [
    "'C' ORDER = row major order (horizontal storage)\n",
    "'F' ORDER = column major order (vertical storage)\n",
    "\n",
    "we can skip any dimension or specify -1\n",
    "flatening = to reshape array into single dimension"
   ]
  },
  {
   "cell_type": "code",
   "execution_count": 70,
   "metadata": {},
   "outputs": [
    {
     "data": {
      "text/plain": [
       "array([[-1.2528644 , -0.68676875, -2.17661468, -0.63911575,  1.61103837],\n",
       "       [-0.50541495,  1.56990122,  1.90816149, -1.0443414 , -2.54435423],\n",
       "       [ 0.68474604,  0.21465687,  1.84624536,  0.16640132,  0.07166549],\n",
       "       [-0.34571734,  0.1415094 ,  0.80677723, -1.66546597,  1.22570438]])"
      ]
     },
     "execution_count": 70,
     "metadata": {},
     "output_type": "execute_result"
    }
   ],
   "source": [
    " import numpy as np\n",
    "    \n",
    "x = np.random.randn(4,5)\n",
    "\n",
    "x"
   ]
  },
  {
   "cell_type": "code",
   "execution_count": 71,
   "metadata": {},
   "outputs": [
    {
     "data": {
      "text/plain": [
       "array([[[-1.2528644 , -0.68676875, -2.17661468, -0.63911575,\n",
       "          1.61103837],\n",
       "        [-0.50541495,  1.56990122,  1.90816149, -1.0443414 ,\n",
       "         -2.54435423]],\n",
       "\n",
       "       [[ 0.68474604,  0.21465687,  1.84624536,  0.16640132,\n",
       "          0.07166549],\n",
       "        [-0.34571734,  0.1415094 ,  0.80677723, -1.66546597,\n",
       "          1.22570438]]])"
      ]
     },
     "execution_count": 71,
     "metadata": {},
     "output_type": "execute_result"
    }
   ],
   "source": [
    "# saves in row major order by default\n",
    "x.reshape(2,2,5)"
   ]
  },
  {
   "cell_type": "code",
   "execution_count": 72,
   "metadata": {},
   "outputs": [
    {
     "data": {
      "text/plain": [
       "array([[[-1.2528644 , -0.68676875, -2.17661468, -0.63911575,\n",
       "          1.61103837],\n",
       "        [ 0.68474604,  0.21465687,  1.84624536,  0.16640132,\n",
       "          0.07166549]],\n",
       "\n",
       "       [[-0.50541495,  1.56990122,  1.90816149, -1.0443414 ,\n",
       "         -2.54435423],\n",
       "        [-0.34571734,  0.1415094 ,  0.80677723, -1.66546597,\n",
       "          1.22570438]]])"
      ]
     },
     "execution_count": 72,
     "metadata": {},
     "output_type": "execute_result"
    }
   ],
   "source": [
    "# to reshape into column major order\n",
    "x.reshape((2,2,5),order = 'F')"
   ]
  },
  {
   "cell_type": "code",
   "execution_count": 73,
   "metadata": {},
   "outputs": [
    {
     "data": {
      "text/plain": [
       "array([[[-1.2528644 , -0.68676875, -2.17661468, -0.63911575,\n",
       "          1.61103837],\n",
       "        [-0.50541495,  1.56990122,  1.90816149, -1.0443414 ,\n",
       "         -2.54435423]],\n",
       "\n",
       "       [[ 0.68474604,  0.21465687,  1.84624536,  0.16640132,\n",
       "          0.07166549],\n",
       "        [-0.34571734,  0.1415094 ,  0.80677723, -1.66546597,\n",
       "          1.22570438]]])"
      ]
     },
     "execution_count": 73,
     "metadata": {},
     "output_type": "execute_result"
    }
   ],
   "source": [
    "# to skip one dimesion\n",
    "x.reshape((2,2,-1))"
   ]
  },
  {
   "cell_type": "code",
   "execution_count": 75,
   "metadata": {},
   "outputs": [
    {
     "data": {
      "text/plain": [
       "array([-1.2528644 , -0.68676875, -2.17661468, -0.63911575,  1.61103837,\n",
       "       -0.50541495,  1.56990122,  1.90816149, -1.0443414 , -2.54435423,\n",
       "        0.68474604,  0.21465687,  1.84624536,  0.16640132,  0.07166549,\n",
       "       -0.34571734,  0.1415094 ,  0.80677723, -1.66546597,  1.22570438])"
      ]
     },
     "execution_count": 75,
     "metadata": {},
     "output_type": "execute_result"
    }
   ],
   "source": [
    "# for flatening(convert into one dimension)\n",
    "x.ravel() "
   ]
  },
  {
   "cell_type": "code",
   "execution_count": 76,
   "metadata": {},
   "outputs": [
    {
     "data": {
      "text/plain": [
       "array([-1.2528644 , -0.68676875, -2.17661468, -0.63911575,  1.61103837,\n",
       "       -0.50541495,  1.56990122,  1.90816149, -1.0443414 , -2.54435423,\n",
       "        0.68474604,  0.21465687,  1.84624536,  0.16640132,  0.07166549,\n",
       "       -0.34571734,  0.1415094 ,  0.80677723, -1.66546597,  1.22570438])"
      ]
     },
     "execution_count": 76,
     "metadata": {},
     "output_type": "execute_result"
    }
   ],
   "source": [
    "x.flatten()"
   ]
  },
  {
   "cell_type": "markdown",
   "metadata": {},
   "source": [
    "# Concatenate"
   ]
  },
  {
   "cell_type": "markdown",
   "metadata": {},
   "source": [
    "### takes a set of arrays and concatenates row wise or column wise"
   ]
  },
  {
   "cell_type": "markdown",
   "metadata": {},
   "source": [
    "###### takes the axis to determine row wise or column wise concatenation\n",
    "###### if axis=0 ,row wise concatenation\n",
    "###### if axis=1 ,column wise concatenation"
   ]
  },
  {
   "cell_type": "markdown",
   "metadata": {},
   "source": [
    "## Convenience functions\n",
    "##### vstack = row wise concatenation\n",
    "##### hstack = column wise concatenation"
   ]
  },
  {
   "cell_type": "code",
   "execution_count": 1,
   "metadata": {},
   "outputs": [],
   "source": [
    "import numpy as np\n",
    "\n",
    "# making a list\n",
    "x = [[1,3,5],[7,9,0]]\n",
    "\n",
    "# converting to array\n",
    "arr1 = np.array(x)\n",
    "\n",
    "# making a list\n",
    "y = [[11,13,15],[17,19,10]]\n",
    "\n",
    "# converting to array\n",
    "arr2 = np.array(y)"
   ]
  },
  {
   "cell_type": "code",
   "execution_count": 3,
   "metadata": {},
   "outputs": [
    {
     "data": {
      "text/plain": [
       "array([[ 1,  3,  5],\n",
       "       [ 7,  9,  0],\n",
       "       [11, 13, 15],\n",
       "       [17, 19, 10]])"
      ]
     },
     "execution_count": 3,
     "metadata": {},
     "output_type": "execute_result"
    }
   ],
   "source": [
    "# row wise concatenation\n",
    "np.concatenate((arr1,arr2), axis=0)"
   ]
  },
  {
   "cell_type": "code",
   "execution_count": 4,
   "metadata": {},
   "outputs": [
    {
     "data": {
      "text/plain": [
       "array([[ 1,  3,  5, 11, 13, 15],\n",
       "       [ 7,  9,  0, 17, 19, 10]])"
      ]
     },
     "execution_count": 4,
     "metadata": {},
     "output_type": "execute_result"
    }
   ],
   "source": [
    "# column wise concatenation\n",
    "np.concatenate((arr1,arr2), axis=1)"
   ]
  },
  {
   "cell_type": "code",
   "execution_count": 7,
   "metadata": {},
   "outputs": [
    {
     "data": {
      "text/plain": [
       "array([[ 1,  3,  5],\n",
       "       [ 7,  9,  0],\n",
       "       [11, 13, 15],\n",
       "       [17, 19, 10]])"
      ]
     },
     "execution_count": 7,
     "metadata": {},
     "output_type": "execute_result"
    }
   ],
   "source": [
    "# row wise concatenation\n",
    "np.vstack((arr1,arr2))"
   ]
  },
  {
   "cell_type": "code",
   "execution_count": 8,
   "metadata": {},
   "outputs": [
    {
     "data": {
      "text/plain": [
       "array([[ 1,  3,  5, 11, 13, 15],\n",
       "       [ 7,  9,  0, 17, 19, 10]])"
      ]
     },
     "execution_count": 8,
     "metadata": {},
     "output_type": "execute_result"
    }
   ],
   "source": [
    "# column wise concatenation\n",
    "np.hstack((arr1,arr2))"
   ]
  },
  {
   "cell_type": "markdown",
   "metadata": {},
   "source": [
    "# split\n",
    "### complimentary method\n",
    "##### breaks an array into multiples from specified positions"
   ]
  },
  {
   "cell_type": "code",
   "execution_count": 9,
   "metadata": {},
   "outputs": [
    {
     "data": {
      "text/plain": [
       "[array([1, 4]), array([5, 6, 7]), array([9, 1, 4])]"
      ]
     },
     "execution_count": 9,
     "metadata": {},
     "output_type": "execute_result"
    }
   ],
   "source": [
    "import numpy as np\n",
    "\n",
    "x = [1,4,5,6,7,9,1,4]\n",
    "\n",
    "d = np.array(x)\n",
    "\n",
    "np.split(d,[2,5])\n",
    "#           positions to split"
   ]
  },
  {
   "cell_type": "code",
   "execution_count": 13,
   "metadata": {},
   "outputs": [
    {
     "data": {
      "text/plain": [
       "[array([[1, 4, 5, 6]]), array([[7, 9]]), array([[1, 4]])]"
      ]
     },
     "execution_count": 13,
     "metadata": {},
     "output_type": "execute_result"
    }
   ],
   "source": [
    "y = [1,4,5,6,7,9,1,4],\n",
    "[11,14,15,16,17,19,11,14]\n",
    "\n",
    "d = np.array(y)\n",
    "\n",
    "#split along y-axis\n",
    "np.split(d,[4,6],axis=1)"
   ]
  },
  {
   "cell_type": "code",
   "execution_count": 15,
   "metadata": {},
   "outputs": [
    {
     "data": {
      "text/plain": [
       "[array([[1, 4, 5, 6, 7, 9, 1, 4]]), array([], shape=(0, 8), dtype=int32)]"
      ]
     },
     "execution_count": 15,
     "metadata": {},
     "output_type": "execute_result"
    }
   ],
   "source": [
    "#split along x-axis\n",
    "np.split(d,[1],axis=0)"
   ]
  },
  {
   "cell_type": "markdown",
   "metadata": {},
   "source": [
    "# Tile And Repeat"
   ]
  },
  {
   "cell_type": "markdown",
   "metadata": {},
   "source": [
    "###### repeat takes an array and repeats the elements specified number of times\n",
    "\n",
    "###### tile repeats or tiles the whole array"
   ]
  },
  {
   "cell_type": "code",
   "execution_count": 17,
   "metadata": {},
   "outputs": [],
   "source": [
    "import numpy as np\n",
    "\n",
    "d = np.array([1,5,7,8])"
   ]
  },
  {
   "cell_type": "code",
   "execution_count": 18,
   "metadata": {},
   "outputs": [
    {
     "data": {
      "text/plain": [
       "array([1, 1, 1, 5, 5, 5, 7, 7, 7, 8, 8, 8])"
      ]
     },
     "execution_count": 18,
     "metadata": {},
     "output_type": "execute_result"
    }
   ],
   "source": [
    "np.repeat(d, 3)"
   ]
  },
  {
   "cell_type": "code",
   "execution_count": 19,
   "metadata": {},
   "outputs": [
    {
     "data": {
      "text/plain": [
       "array([1, 5, 7, 8, 1, 5, 7, 8])"
      ]
     },
     "execution_count": 19,
     "metadata": {},
     "output_type": "execute_result"
    }
   ],
   "source": [
    "np.tile(d,2)"
   ]
  },
  {
   "cell_type": "markdown",
   "metadata": {},
   "source": [
    "### smaller array expands itself === broadcasting"
   ]
  },
  {
   "cell_type": "code",
   "execution_count": null,
   "metadata": {},
   "outputs": [],
   "source": []
  },
  {
   "cell_type": "code",
   "execution_count": null,
   "metadata": {},
   "outputs": [],
   "source": []
  },
  {
   "cell_type": "code",
   "execution_count": null,
   "metadata": {},
   "outputs": [],
   "source": []
  },
  {
   "cell_type": "code",
   "execution_count": null,
   "metadata": {},
   "outputs": [],
   "source": []
  }
 ],
 "metadata": {
  "kernelspec": {
   "display_name": "Python 3",
   "language": "python",
   "name": "python3"
  },
  "language_info": {
   "codemirror_mode": {
    "name": "ipython",
    "version": 3
   },
   "file_extension": ".py",
   "mimetype": "text/x-python",
   "name": "python",
   "nbconvert_exporter": "python",
   "pygments_lexer": "ipython3",
   "version": "3.7.3"
  }
 },
 "nbformat": 4,
 "nbformat_minor": 2
}
